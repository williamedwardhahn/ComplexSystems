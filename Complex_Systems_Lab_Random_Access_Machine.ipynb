{
  "nbformat": 4,
  "nbformat_minor": 0,
  "metadata": {
    "colab": {
      "name": "Complex Systems Lab Random Access Machine.ipynb",
      "provenance": [],
      "collapsed_sections": [],
      "include_colab_link": true
    },
    "kernelspec": {
      "name": "python3",
      "display_name": "Python 3"
    }
  },
  "cells": [
    {
      "cell_type": "markdown",
      "metadata": {
        "id": "view-in-github",
        "colab_type": "text"
      },
      "source": [
        "<a href=\"https://colab.research.google.com/github/williamedwardhahn/ComplexSystems/blob/main/Complex_Systems_Lab_Random_Access_Machine.ipynb\" target=\"_parent\"><img src=\"https://colab.research.google.com/assets/colab-badge.svg\" alt=\"Open In Colab\"/></a>"
      ]
    },
    {
      "cell_type": "markdown",
      "metadata": {
        "id": "zE0z8nOwpwwP"
      },
      "source": [
        "# Random Access Machine"
      ]
    },
    {
      "cell_type": "code",
      "metadata": {
        "id": "PjJANTjFXaEd"
      },
      "source": [
        "import numpy as np"
      ],
      "execution_count": null,
      "outputs": []
    },
    {
      "cell_type": "code",
      "metadata": {
        "id": "nHanxKk8Z0oM"
      },
      "source": [
        "# --------------- Instruction Set --------------\n",
        "# hlt 100000       Halt\n",
        "# ld  11rmmm       Load register r with contents of address mmm.\n",
        "# sto 12rmmm       Store the contents of register r at address mmm.\n",
        "# ld# 13rnnn       Load register r with the number nnn.\n",
        "# ldi 14r00s       Load register r with the memory word addressed by register s.\n",
        "# add 15r00s       Add contents of register s to register r\n",
        "# sub 16r00s       Sub contents of register s from register r\n",
        "# mul 17r00s       Mul contents of register r by register s\n",
        "# div 18r00s       Div contents of register r by register s\n",
        "# jmp 200mmm       Jump to location mmm\n",
        "# jz  21rmmm       Jump to location mmm if register r is zero"
      ],
      "execution_count": null,
      "outputs": []
    },
    {
      "cell_type": "code",
      "metadata": {
        "id": "eQCh4uSzWWBc"
      },
      "source": [
        "codes = {\"hlt\":10, \"ld\":11, \"sto\":12, \"ld#\":13, \"ldi\":14, \"add\":15, \"sub\":16, \"mul\":17, \"div\":18, \"jmp\":20, \"jz\":21}"
      ],
      "execution_count": null,
      "outputs": []
    },
    {
      "cell_type": "code",
      "metadata": {
        "id": "aqN-NG62jxGE"
      },
      "source": [
        "def compute(M):\n",
        "    C = 100\n",
        "    run = 1\n",
        "    while run:\n",
        "        \n",
        "        I = M[C]\n",
        "        o = (I // 10000)       # Operation Code\n",
        "        r = (I // 1000) % 10   # Register\n",
        "        a = (I %  1000)        # Address\n",
        "\n",
        "        if   o == 10    : run = False             # stop instruction\n",
        "        elif o == 11    : R[r] = M[a]             # load Register\n",
        "        elif o == 12    : M[a] = R[r]             # store Register\n",
        "        elif o == 13    : R[r] = a                # load Register immediate\n",
        "        elif o == 14    : R[r] = M[R[a]]          # load Register indexed\n",
        "        elif o == 15    : R[r] = R[r] + R[a]      # add Register\n",
        "        elif o == 16    : R[r] = R[r] - R[a]      # sub Register\n",
        "        elif o == 17    : R[r] = R[r] * R[a]      # mul Register\n",
        "        elif o == 18    : R[r] = R[r] / R[a]      # div Register\n",
        "        if   o < 20     : C += 1                  # proceed to next inst\n",
        "        elif o == 20    : C = a                   # jump unconditionally\n",
        "        elif o == 21    :                         #   \n",
        "            if R[r]== 0 : C = a                   # jump if Register zero\n",
        "            else        : C += 1                  # if not proceed"
      ],
      "execution_count": null,
      "outputs": []
    },
    {
      "cell_type": "code",
      "metadata": {
        "id": "e7Lg8x2mq5a2"
      },
      "source": [
        "def load_program(file):\n",
        "    with open(file) as f:\n",
        "        program = f.readlines()\n",
        "    for i in range(len(program)):\n",
        "        M[int(program[i][0:3])] = int(program[i][3:10])"
      ],
      "execution_count": null,
      "outputs": []
    },
    {
      "cell_type": "markdown",
      "metadata": {
        "id": "7FOUe96cqUaw"
      },
      "source": [
        "# Add Two Numbers"
      ]
    },
    {
      "cell_type": "code",
      "metadata": {
        "id": "-Z392uB9YzUW"
      },
      "source": [
        "M = np.zeros(1000, dtype=int)    # Memory\n",
        "R = np.zeros(10,   dtype=int)    # Registers\n",
        "C = np.zeros(1,    dtype=int)    # Program Counter\n",
        "I = np.zeros(1,    dtype=int)    # Instruction Register"
      ],
      "execution_count": null,
      "outputs": []
    },
    {
      "cell_type": "code",
      "metadata": {
        "id": "Re5M7WBSYzbB"
      },
      "source": [
        "M[100] = 131005  # Load reg 1 with 5\n",
        "M[101] = 132006  # Load reg 2 with 6\n",
        "M[102] = 151002  # Add reg2 to reg1\n",
        "M[103] = 100000  # Stop"
      ],
      "execution_count": null,
      "outputs": []
    },
    {
      "cell_type": "code",
      "metadata": {
        "id": "y-9CCgZGnx5R"
      },
      "source": [
        "compute(M)"
      ],
      "execution_count": null,
      "outputs": []
    },
    {
      "cell_type": "code",
      "metadata": {
        "colab": {
          "base_uri": "https://localhost:8080/"
        },
        "id": "9dWfRqD9nx7z",
        "outputId": "d5fb7553-b956-46e9-91b9-2acf511a8b81"
      },
      "source": [
        "R"
      ],
      "execution_count": null,
      "outputs": [
        {
          "output_type": "execute_result",
          "data": {
            "text/plain": [
              "array([ 0, 11,  6,  0,  0,  0,  0,  0,  0,  0])"
            ]
          },
          "metadata": {
            "tags": []
          },
          "execution_count": 543
        }
      ]
    },
    {
      "cell_type": "markdown",
      "metadata": {
        "id": "SI97umBJqWwB"
      },
      "source": [
        "# Add List of Numbers"
      ]
    },
    {
      "cell_type": "code",
      "metadata": {
        "colab": {
          "base_uri": "https://localhost:8080/"
        },
        "id": "EdQFjkbFex70",
        "outputId": "336aa2c4-ba1e-417f-ea69-9c821e136553"
      },
      "source": [
        "%%writefile addnums.mml\n",
        "100 130000   reg 0 holds the sum, set to zero\n",
        "101 131200   put address (200) of 1st number in reg 1\n",
        "102 132001   reg 2 holds the number one.\n",
        "103 143001   next number (via reg 1) to reg 3\n",
        "104 213108   if zero we're done so jump to halt inst\n",
        "105 150003   otherwise add reg 3 to the sum in reg 0\n",
        "106 151002   add one (in reg 2) to reg 1 so it points to next number\n",
        "107 200103   jump back to 103 to get the next number\n",
        "108 100000   all done so halt. the sum is in reg 0\n",
        "200 000123   the numbers to add\n",
        "201 000234\n",
        "202 000345\n",
        "203 000000   the end of the list"
      ],
      "execution_count": null,
      "outputs": [
        {
          "output_type": "stream",
          "text": [
            "Overwriting addnums.mml\n"
          ],
          "name": "stdout"
        }
      ]
    },
    {
      "cell_type": "code",
      "metadata": {
        "id": "LL2LVqd1ex5f"
      },
      "source": [
        "M = np.zeros(1000, dtype=int)    # Memory\n",
        "R = np.zeros(10,   dtype=int)    # Registers\n",
        "C = np.zeros(1,    dtype=int)    # Program Counter\n",
        "I = np.zeros(1,    dtype=int)    # Instruction Register"
      ],
      "execution_count": null,
      "outputs": []
    },
    {
      "cell_type": "code",
      "metadata": {
        "id": "vSM1c_nmkIa5"
      },
      "source": [
        "load_program('addnums.mml')"
      ],
      "execution_count": null,
      "outputs": []
    },
    {
      "cell_type": "code",
      "metadata": {
        "colab": {
          "base_uri": "https://localhost:8080/"
        },
        "id": "7VlstL0HmJkf",
        "outputId": "c3175611-c042-4f90-e881-a15119a12a75"
      },
      "source": [
        "123+234+345"
      ],
      "execution_count": null,
      "outputs": [
        {
          "output_type": "execute_result",
          "data": {
            "text/plain": [
              "702"
            ]
          },
          "metadata": {
            "tags": []
          },
          "execution_count": 547
        }
      ]
    },
    {
      "cell_type": "code",
      "metadata": {
        "id": "SloQJ1u0oKFC"
      },
      "source": [
        "compute(M)"
      ],
      "execution_count": null,
      "outputs": []
    },
    {
      "cell_type": "code",
      "metadata": {
        "colab": {
          "base_uri": "https://localhost:8080/"
        },
        "id": "FYxgxCSYeyEY",
        "outputId": "dd951dfb-0fdc-429a-d58f-ef2dea1f68f4"
      },
      "source": [
        "R"
      ],
      "execution_count": null,
      "outputs": [
        {
          "output_type": "execute_result",
          "data": {
            "text/plain": [
              "array([702, 203,   1,   0,   0,   0,   0,   0,   0,   0])"
            ]
          },
          "metadata": {
            "tags": []
          },
          "execution_count": 549
        }
      ]
    },
    {
      "cell_type": "code",
      "metadata": {
        "id": "g-tqz3aOo-YJ"
      },
      "source": [
        ""
      ],
      "execution_count": null,
      "outputs": []
    },
    {
      "cell_type": "markdown",
      "metadata": {
        "id": "R78Hz0--qcTR"
      },
      "source": [
        "# Factorial"
      ]
    },
    {
      "cell_type": "code",
      "metadata": {
        "id": "ZFAaAN2_eyGe"
      },
      "source": [
        "def fact(n):\n",
        "    if n == 1: return 1\n",
        "    return n * fact(n-1)"
      ],
      "execution_count": null,
      "outputs": []
    },
    {
      "cell_type": "code",
      "metadata": {
        "colab": {
          "base_uri": "https://localhost:8080/"
        },
        "id": "eiUtH0RAo6BH",
        "outputId": "2353543d-e7df-45b5-ae97-4d7d2893c2db"
      },
      "source": [
        "fact(18)"
      ],
      "execution_count": null,
      "outputs": [
        {
          "output_type": "execute_result",
          "data": {
            "text/plain": [
              "6402373705728000"
            ]
          },
          "metadata": {
            "tags": []
          },
          "execution_count": 551
        }
      ]
    },
    {
      "cell_type": "code",
      "metadata": {
        "colab": {
          "base_uri": "https://localhost:8080/"
        },
        "id": "TezPf49ZeyK7",
        "outputId": "dcea7d75-a445-4779-a5e8-1918808d7a2a"
      },
      "source": [
        "%%writefile fact.mml\n",
        "100 130018     ld# r0,8\n",
        "101 120117     sto r0,term\n",
        "102 130001     ld# r0,1\n",
        "103 120118     sto r0,ans\n",
        "104 110117     ld  r0,term\n",
        "105 210115     jz  r0,z2\n",
        "106 111118     ld  r1,ans\n",
        "107 112117     ld  r2,term\n",
        "108 171002     mul r1,r2\n",
        "109 121118     sto r1,ans\n",
        "110 111117     ld  r1,term\n",
        "111 132001     ld# r2,1\n",
        "112 161002     sub r1,r2\n",
        "113 121117     sto r1,term\n",
        "114 200104     jmp  z1\n",
        "115 110118     ld  r0,ans\n",
        "116 100000     hlt\n",
        "117 100000     term 0\n",
        "118 100000     ans 0"
      ],
      "execution_count": null,
      "outputs": [
        {
          "output_type": "stream",
          "text": [
            "Overwriting fact.mml\n"
          ],
          "name": "stdout"
        }
      ]
    },
    {
      "cell_type": "code",
      "metadata": {
        "id": "rN01jA_VobcP"
      },
      "source": [
        "M = np.zeros(1000, dtype=int)    # Memory\n",
        "R = np.zeros(10,   dtype=int)    # Registers\n",
        "C = np.zeros(1,    dtype=int)    # Program Counter\n",
        "I = np.zeros(1,    dtype=int)    # Instruction Register"
      ],
      "execution_count": null,
      "outputs": []
    },
    {
      "cell_type": "code",
      "metadata": {
        "id": "k_M-y_vJeyNR"
      },
      "source": [
        "load_program('fact.mml')"
      ],
      "execution_count": null,
      "outputs": []
    },
    {
      "cell_type": "code",
      "metadata": {
        "id": "yIy8XvGIoLpv"
      },
      "source": [
        "compute(M)"
      ],
      "execution_count": null,
      "outputs": []
    },
    {
      "cell_type": "code",
      "metadata": {
        "colab": {
          "base_uri": "https://localhost:8080/"
        },
        "id": "I0P6XJrLXa70",
        "outputId": "068b31ba-14e9-4ae6-d287-403983090b5f"
      },
      "source": [
        "R"
      ],
      "execution_count": null,
      "outputs": [
        {
          "output_type": "execute_result",
          "data": {
            "text/plain": [
              "array([6402373705728000,                0,                1,\n",
              "                      0,                0,                0,\n",
              "                      0,                0,                0,\n",
              "                      0])"
            ]
          },
          "metadata": {
            "tags": []
          },
          "execution_count": 556
        }
      ]
    },
    {
      "cell_type": "code",
      "metadata": {
        "id": "HOn1y9MEXa-8"
      },
      "source": [
        ""
      ],
      "execution_count": null,
      "outputs": []
    },
    {
      "cell_type": "markdown",
      "metadata": {
        "id": "LUw3OmqrSC0F"
      },
      "source": [
        "# Assembler"
      ]
    },
    {
      "cell_type": "code",
      "metadata": {
        "colab": {
          "base_uri": "https://localhost:8080/"
        },
        "id": "MkwoTb_LSKft",
        "outputId": "223f985e-c0ee-455b-ff1d-6c278efea66a"
      },
      "source": [
        "%%writefile code.mma\n",
        "go    ld#  r0,0      register 0 will hold the sum, init it\n",
        "      ld#  r1,nums   register 1 points to the numbers to add\n",
        "      ld#  r2,1      register 2 holds the number one.\n",
        "loop  ldi  r3,r1     get next number into register 3\n",
        "      jz   r3,done   if its zero we're finished\n",
        "      add  r0,r3     otherwise add it to the sum\n",
        "      add  r1,r2     add one to register one (next number to load)\n",
        "      jmp  loop      go for the next one\n",
        "done  hlt  00        all done. sum is in register 0\n",
        "nums  123            the numbers to add\n",
        "      234\n",
        "      345\n",
        "        0            end of the list"
      ],
      "execution_count": null,
      "outputs": [
        {
          "output_type": "stream",
          "text": [
            "Overwriting code.mma\n"
          ],
          "name": "stdout"
        }
      ]
    },
    {
      "cell_type": "code",
      "metadata": {
        "id": "qpFaKykiSKfy"
      },
      "source": [
        "file = 'code.mma'\n",
        "with open(file) as f:\n",
        "    program = f.readlines()"
      ],
      "execution_count": null,
      "outputs": []
    },
    {
      "cell_type": "code",
      "metadata": {
        "id": "2IT87C0-SKf1"
      },
      "source": [
        "codes = {\"hlt\":10, \"ld\":11, \"sto\":12, \"ld#\":13, \"ldi\":14, \"add\":15, \"sub\":16, \"mul\":17, \"div\":18, \"jmp\":20, \"jz\":21}\n",
        "lookup = {\"r0\":0,\"r1\":1,\"r2\":2,\"r3\":3,\"r4\":4,\"r5\":5,\"r6\":6,\"r7\":7,\"r8\":8,\"r9\":9}"
      ],
      "execution_count": null,
      "outputs": []
    },
    {
      "cell_type": "code",
      "metadata": {
        "id": "53P0hecZaHrn"
      },
      "source": [
        "def value(s) :\n",
        "    if not s:\n",
        "        return 0       \n",
        "    a = lookup.get(s)         \n",
        "    if a == None:\n",
        "        return int(s)  \n",
        "    else:\n",
        "        return a"
      ],
      "execution_count": null,
      "outputs": []
    },
    {
      "cell_type": "code",
      "metadata": {
        "id": "iurpQM9IaLzw"
      },
      "source": [
        "def Assembler(program):\n",
        "    C = 100\n",
        "    for lin in program :\n",
        "        flds = lin.strip().split()\n",
        "        if not flds:\n",
        "            continue        \n",
        "        if lin[0] > ' ':\n",
        "            lookup[flds[0]] = C\n",
        "            if len(flds) > 1:        \n",
        "                C = C + 1\n",
        "        else:\n",
        "            C = C + 1\n",
        "\n",
        "    C = 100\n",
        "    for line in program:\n",
        "        line = line.rstrip()\n",
        "        flds = line.split()[int(line[0] > ' '):]\n",
        "        op = codes.get(flds[0])\n",
        "        if op == None: \n",
        "            instruction = int(flds[0])                   \n",
        "        elif op == 10:\n",
        "            instruction = int(10)\n",
        "        else:                                   \n",
        "            parts = flds[1].split(\",\")                 \n",
        "            if len(parts) == 1:\n",
        "                parts = [0,parts[0]]                   \n",
        "            instruction = op*10000 + value(parts[0])*1000 + value(parts[1])\n",
        "        print(\"%03d %06d\" % (C, instruction))\n",
        "\n",
        "        C = C + 1\n",
        "\n",
        "    print(\"%03d %06d\" % (C, 100000))\n",
        "    # print(\"%03d %06d\" % (C+1, 100000))\n",
        "    # print(\"%03d %06d\" % (C+2, 100000))"
      ],
      "execution_count": null,
      "outputs": []
    },
    {
      "cell_type": "code",
      "metadata": {
        "colab": {
          "base_uri": "https://localhost:8080/"
        },
        "id": "qmB0Lo25bHMY",
        "outputId": "f95e491e-ad98-47d7-fe73-2f5de10157d4"
      },
      "source": [
        "Assembler(program)"
      ],
      "execution_count": null,
      "outputs": [
        {
          "output_type": "stream",
          "text": [
            "100 130000\n",
            "101 131109\n",
            "102 132001\n",
            "103 143001\n",
            "104 213108\n",
            "105 150003\n",
            "106 151002\n",
            "107 200103\n",
            "108 000010\n",
            "109 000123\n",
            "110 000234\n",
            "111 000345\n",
            "112 000000\n",
            "113 100000\n"
          ],
          "name": "stdout"
        }
      ]
    },
    {
      "cell_type": "code",
      "metadata": {
        "colab": {
          "base_uri": "https://localhost:8080/"
        },
        "id": "jIcku-I4XWFt",
        "outputId": "d3867505-4939-439f-ba7a-1bebb95412a0"
      },
      "source": [
        "%%writefile addnums.mml\n",
        "100 130000\n",
        "101 131109\n",
        "102 132001\n",
        "103 143001\n",
        "104 213108\n",
        "105 150003\n",
        "106 151002\n",
        "107 200103\n",
        "108 000010\n",
        "109 000123\n",
        "110 000234\n",
        "111 000345\n",
        "112 000000\n",
        "113 100000"
      ],
      "execution_count": null,
      "outputs": [
        {
          "output_type": "stream",
          "text": [
            "Overwriting addnums.mml\n"
          ],
          "name": "stdout"
        }
      ]
    },
    {
      "cell_type": "code",
      "metadata": {
        "id": "s8-ydYpWXWFw"
      },
      "source": [
        "M = np.zeros(1000, dtype=int)    # Memory\n",
        "R = np.zeros(10,   dtype=int)    # Registers\n",
        "C = np.zeros(1,    dtype=int)    # Program Counter\n",
        "I = np.zeros(1,    dtype=int)    # Instruction Register"
      ],
      "execution_count": null,
      "outputs": []
    },
    {
      "cell_type": "code",
      "metadata": {
        "id": "qgueJRROXWFw"
      },
      "source": [
        "load_program('addnums.mml')"
      ],
      "execution_count": null,
      "outputs": []
    },
    {
      "cell_type": "code",
      "metadata": {
        "colab": {
          "base_uri": "https://localhost:8080/"
        },
        "id": "Ijm7OV6xXWFx",
        "outputId": "2ca56083-7a01-45d4-fc90-c709fe4bac2c"
      },
      "source": [
        "123+234+345"
      ],
      "execution_count": null,
      "outputs": [
        {
          "output_type": "execute_result",
          "data": {
            "text/plain": [
              "702"
            ]
          },
          "metadata": {
            "tags": []
          },
          "execution_count": 566
        }
      ]
    },
    {
      "cell_type": "code",
      "metadata": {
        "id": "1UUwIoTZXWFy"
      },
      "source": [
        "compute(M)"
      ],
      "execution_count": null,
      "outputs": []
    },
    {
      "cell_type": "code",
      "metadata": {
        "colab": {
          "base_uri": "https://localhost:8080/"
        },
        "id": "P8YvWADoXWFy",
        "outputId": "f21b75e8-500d-42d0-db45-ee7295a54a74"
      },
      "source": [
        "R"
      ],
      "execution_count": null,
      "outputs": [
        {
          "output_type": "execute_result",
          "data": {
            "text/plain": [
              "array([702, 112,   1,   0,   0,   0,   0,   0,   0,   0])"
            ]
          },
          "metadata": {
            "tags": []
          },
          "execution_count": 568
        }
      ]
    },
    {
      "cell_type": "code",
      "metadata": {
        "id": "tN8WBfp4XVmy"
      },
      "source": [
        ""
      ],
      "execution_count": null,
      "outputs": []
    },
    {
      "cell_type": "code",
      "metadata": {
        "id": "EDnY_j-CXVo5"
      },
      "source": [
        ""
      ],
      "execution_count": null,
      "outputs": []
    },
    {
      "cell_type": "code",
      "metadata": {
        "id": "so0siCnTXVrF"
      },
      "source": [
        ""
      ],
      "execution_count": null,
      "outputs": []
    },
    {
      "cell_type": "code",
      "metadata": {
        "id": "LBy9HFmLXVta"
      },
      "source": [
        ""
      ],
      "execution_count": null,
      "outputs": []
    },
    {
      "cell_type": "markdown",
      "metadata": {
        "id": "9BHg1IH1lZXZ"
      },
      "source": [
        "# Compiler"
      ]
    },
    {
      "cell_type": "code",
      "metadata": {
        "id": "FizykPtJjKTo"
      },
      "source": [
        "import re, sys\n",
        "from string import ascii_letters, digits"
      ],
      "execution_count": null,
      "outputs": []
    },
    {
      "cell_type": "code",
      "metadata": {
        "id": "KBYM0_n8mwVD"
      },
      "source": [
        "def search (a,b) :\n",
        "\t\"return index of b within a or -1\"\n",
        "\tmatch = re.search(a,b)\n",
        "\tif match : return match.start()\n",
        "\telse     : return -1\n",
        "\n",
        "def getToken (prog) :\n",
        "    \"extract next word, number or symbol. return it and rest of prog\"\n",
        "    prog = prog.strip()                        # remove leading whitespace\n",
        "    if prog == \"\" : return ['','']             # if no more prog then no token\n",
        "    if prog[0] in ascii_letters :              # a symbol\n",
        "        p = search('[^a-zA-z0-9]',prog)        # search for non-alphanumeric\n",
        "        if p < 0 : return [prog,\"\"]            # return the very last token\n",
        "        else     : return [prog[:p],prog[p:]]  # or the next alphanumeric token\n",
        "    elif prog[0] in digits :\n",
        "        p = search('[^0-9]',prog)              # find first non-numeric\n",
        "        if p < 0 : return [prog,\"\"]            # return the very last token\n",
        "        else     : return [prog[:p],prog[p:]]  # or the next numeric token\n",
        "    else : return [prog[0], prog[1:]]          # or the next (non-alpha) token\n",
        "\n",
        "def getStat (prog, reg) :\n",
        "    global nextLabel, vars\n",
        "    [token, rest] = getToken(prog)          # get statement keyword if any\n",
        "    if not token : return ['','']           # return if we're all done\n",
        "    if token == \"while\" :\n",
        "        [code1,rest] = getExpr(rest,reg)    # get true/false code to reg\n",
        "        [code2,rest] = getStat (rest, reg+1) # get main body to next reg\n",
        "\n",
        "        l1=nextLabel; l2=nextLabel+1; nextLabel=nextLabel+2\n",
        "        code = \"z%d\\n%s  jz  r%d,z%d\\n%s  jmp  z%d\\nz%d\\n\" % \\\n",
        "                            (l1,code1,reg,l2,code2,l1,l2)\n",
        "        return [code, rest]\n",
        "    elif token == \"{\" :                 # a compound statement. inside {}\n",
        "        code = \"\"\n",
        "        while 1 :\n",
        "            [tok,rest1] = getToken(rest)    # get statments until \"}\"\n",
        "            if not tok    : return ['','']\n",
        "            if tok == '}' : return [code,rest1]\n",
        "            [code1,rest] = getStat(rest,reg)\n",
        "            code = code + code1\n",
        "    else :\n",
        "        [second,rest1] = getToken(rest)        # assignment ?\n",
        "        if second == '=' :\n",
        "            [code,rest] = getExpr (rest1, reg)\n",
        "            vars[token] = 1               # remember variable name\n",
        "            return [code+'  sto r%d,%s\\n' % (reg,token), rest]\n",
        "        else : return getExpr (prog, reg)\n",
        "    \n",
        "def getExpr (prog, reg) :\n",
        "    global nextLabel\n",
        "    [code1,rest] = getTerm (prog, reg)\n",
        "    if not code1 : return ['','']\n",
        "    [opcode,rest1] = getToken(rest)\n",
        "    if opcode in ['+','*','-','/'] :\n",
        "        # Use next higher register for 2nd expression\n",
        "        [code2, rest] = getExpr (rest1, reg+1)\n",
        "        if opcode == '+' :\n",
        "            code = '  add r%d,r%d\\n' % (reg,reg+1)\n",
        "        if opcode == '-' :\n",
        "            code = '  sub r%d,r%d\\n' % (reg,reg+1)\n",
        "        if opcode == '*' :\n",
        "            code = '  mul r%d,r%d\\n' % (reg,reg+1)\n",
        "        if opcode == '/' :\n",
        "            code = '  div r%d,r%d\\n' % (reg,reg+1)\n",
        "        return [code1+code2+code, rest]\n",
        "    else : return [code1, rest]\n",
        "\n",
        "def getTerm (prog, reg) :\n",
        "    \"Extract number, variable, or nested expression\"\n",
        "    [token, rest] = getToken(prog)    # peek at the first token\n",
        "    if not token : return ['','']\n",
        "    if token == \"(\" :                        # a nested expression\n",
        "        [code,rest] = getExpr(rest, reg)     # go get it and just make\n",
        "        if not code : return ['','']\n",
        "        [token,rest] = getToken(rest)        # make sure closes with \")\"\n",
        "        if token != \")\" : return ['','']\n",
        "        else            : return [code,rest]\n",
        "    elif token < 'A' :     # got a number - just load to register\n",
        "        return ['  ld# r%d,%s\\n' % (reg,token), rest]\n",
        "    else :\n",
        "        return ['  ld  r%d,%s\\n' % (reg, token), rest]   # load a variable"
      ],
      "execution_count": null,
      "outputs": []
    },
    {
      "cell_type": "code",
      "metadata": {
        "id": "YE3kTOjhladH"
      },
      "source": [
        "def Compiler(program):\n",
        "    global vars\n",
        "    while program :\n",
        "        [code,program] = getStat(program, 0)\n",
        "        print(code.rstrip())       \n",
        "    # print(\"  hlt\")               \n",
        "    for var in vars.keys():\n",
        "        print(\"%s 0\" % var)"
      ],
      "execution_count": null,
      "outputs": []
    },
    {
      "cell_type": "code",
      "metadata": {
        "colab": {
          "base_uri": "https://localhost:8080/"
        },
        "id": "V-orjVX7jKWA",
        "outputId": "84374386-8169-4d87-9851-5d5d96882f58"
      },
      "source": [
        "nextLabel = 1\n",
        "vars = {}\n",
        "Compiler(\"5*3*8\")"
      ],
      "execution_count": null,
      "outputs": [
        {
          "output_type": "stream",
          "text": [
            "  ld# r0,5\n",
            "  ld# r1,3\n",
            "  ld# r2,8\n",
            "  mul r1,r2\n",
            "  mul r0,r1\n"
          ],
          "name": "stdout"
        }
      ]
    },
    {
      "cell_type": "code",
      "metadata": {
        "colab": {
          "base_uri": "https://localhost:8080/"
        },
        "id": "czjyeP8ntVJl",
        "outputId": "638cc2e6-6224-4c35-af98-80154a302caf"
      },
      "source": [
        "%%writefile code.ma\n",
        "  ld# r0,5\n",
        "  ld# r1,3\n",
        "  ld# r2,8\n",
        "  mul r1,r2\n",
        "  mul r0,r1"
      ],
      "execution_count": null,
      "outputs": [
        {
          "output_type": "stream",
          "text": [
            "Overwriting code.ma\n"
          ],
          "name": "stdout"
        }
      ]
    },
    {
      "cell_type": "code",
      "metadata": {
        "colab": {
          "base_uri": "https://localhost:8080/"
        },
        "id": "9aaSQi-vseAi",
        "outputId": "f4700e38-61f1-4e3b-971c-2df1f64658a5"
      },
      "source": [
        "file = 'code.ma'\n",
        "with open(file) as f:\n",
        "    program = f.readlines()\n",
        "program"
      ],
      "execution_count": null,
      "outputs": [
        {
          "output_type": "execute_result",
          "data": {
            "text/plain": [
              "['  ld# r0,5\\n',\n",
              " '  ld# r1,3\\n',\n",
              " '  ld# r2,8\\n',\n",
              " '  mul r1,r2\\n',\n",
              " '  mul r0,r1']"
            ]
          },
          "metadata": {
            "tags": []
          },
          "execution_count": 574
        }
      ]
    },
    {
      "cell_type": "code",
      "metadata": {
        "colab": {
          "base_uri": "https://localhost:8080/"
        },
        "id": "QH6dLr_VsKIH",
        "outputId": "18f502cb-2b16-47a2-afe0-c0b7b878c7ee"
      },
      "source": [
        "Assembler(program)"
      ],
      "execution_count": null,
      "outputs": [
        {
          "output_type": "stream",
          "text": [
            "100 130005\n",
            "101 131003\n",
            "102 132008\n",
            "103 171002\n",
            "104 170001\n",
            "105 100000\n"
          ],
          "name": "stdout"
        }
      ]
    },
    {
      "cell_type": "code",
      "metadata": {
        "colab": {
          "base_uri": "https://localhost:8080/"
        },
        "id": "dH-4k_Vlu7Yi",
        "outputId": "64cdee0f-30ff-4cbf-94bf-9b48e7d0bb25"
      },
      "source": [
        "%%writefile code.ml\n",
        "100 130005\n",
        "101 131003\n",
        "102 132008\n",
        "103 171002\n",
        "104 170001\n",
        "105 100000"
      ],
      "execution_count": null,
      "outputs": [
        {
          "output_type": "stream",
          "text": [
            "Overwriting code.ml\n"
          ],
          "name": "stdout"
        }
      ]
    },
    {
      "cell_type": "code",
      "metadata": {
        "id": "Ij_nQSWeu7Yk"
      },
      "source": [
        "M = np.zeros(1000, dtype=int)    # Memory\n",
        "R = np.zeros(10,   dtype=int)    # Registers\n",
        "C = np.zeros(100,  dtype=int)    # Program Counter\n",
        "I = np.zeros(1,    dtype=int)    # Instruction Register"
      ],
      "execution_count": null,
      "outputs": []
    },
    {
      "cell_type": "code",
      "metadata": {
        "id": "YtRmDyZ8u7Ym"
      },
      "source": [
        "load_program('code.ml')"
      ],
      "execution_count": null,
      "outputs": []
    },
    {
      "cell_type": "code",
      "metadata": {
        "id": "d5qG3B85u7Yn"
      },
      "source": [
        "compute(M)"
      ],
      "execution_count": null,
      "outputs": []
    },
    {
      "cell_type": "code",
      "metadata": {
        "colab": {
          "base_uri": "https://localhost:8080/"
        },
        "id": "Zz_XuR-Cu7Yo",
        "outputId": "74d9b4e7-0f80-435e-dd83-68916e0710b0"
      },
      "source": [
        "R"
      ],
      "execution_count": null,
      "outputs": [
        {
          "output_type": "execute_result",
          "data": {
            "text/plain": [
              "array([120,  24,   8,   0,   0,   0,   0,   0,   0,   0])"
            ]
          },
          "metadata": {
            "tags": []
          },
          "execution_count": 580
        }
      ]
    },
    {
      "cell_type": "code",
      "metadata": {
        "colab": {
          "base_uri": "https://localhost:8080/"
        },
        "id": "AFdv_13ssYkk",
        "outputId": "b5f3eda3-2c11-405d-f5f8-fd21b4cff28e"
      },
      "source": [
        "5*3*8"
      ],
      "execution_count": null,
      "outputs": [
        {
          "output_type": "execute_result",
          "data": {
            "text/plain": [
              "120"
            ]
          },
          "metadata": {
            "tags": []
          },
          "execution_count": 581
        }
      ]
    },
    {
      "cell_type": "code",
      "metadata": {
        "id": "ZqIo_2040RjO"
      },
      "source": [
        ""
      ],
      "execution_count": null,
      "outputs": []
    },
    {
      "cell_type": "code",
      "metadata": {
        "colab": {
          "base_uri": "https://localhost:8080/"
        },
        "id": "rMRvyUme1smY",
        "outputId": "1f6cf0c4-6a19-461d-8a6f-0ca6b2ff840f"
      },
      "source": [
        "nextLabel = 1\n",
        "vars = {\"a\":0,\"b\":0}\n",
        "Compiler(\"c=(b+3)*a\")"
      ],
      "execution_count": null,
      "outputs": [
        {
          "output_type": "stream",
          "text": [
            "  ld  r0,b\n",
            "  ld# r1,3\n",
            "  add r0,r1\n",
            "  ld  r1,a\n",
            "  mul r0,r1\n",
            "  sto r0,c\n",
            "a 0\n",
            "b 0\n",
            "c 0\n"
          ],
          "name": "stdout"
        }
      ]
    },
    {
      "cell_type": "code",
      "metadata": {
        "colab": {
          "base_uri": "https://localhost:8080/"
        },
        "id": "iYx_wfNk1smg",
        "outputId": "de5bad53-cdd5-4c4e-fc82-94becae1b691"
      },
      "source": [
        "%%writefile code.ma\n",
        "  ld  r0,b\n",
        "  ld# r1,3\n",
        "  add r0,r1\n",
        "  ld  r1,a\n",
        "  mul r0,r1\n",
        "  sto r0,c\n",
        "a 0\n",
        "b 0\n",
        "c 0"
      ],
      "execution_count": null,
      "outputs": [
        {
          "output_type": "stream",
          "text": [
            "Overwriting code.ma\n"
          ],
          "name": "stdout"
        }
      ]
    },
    {
      "cell_type": "code",
      "metadata": {
        "colab": {
          "base_uri": "https://localhost:8080/"
        },
        "id": "qQdZ9Ijr1smj",
        "outputId": "cf7df3d2-43a0-44ec-e0d4-676d742908c0"
      },
      "source": [
        "file = 'code.ma'\n",
        "with open(file) as f:\n",
        "    program = f.readlines()\n",
        "program"
      ],
      "execution_count": null,
      "outputs": [
        {
          "output_type": "execute_result",
          "data": {
            "text/plain": [
              "['  ld  r0,b\\n',\n",
              " '  ld# r1,3\\n',\n",
              " '  add r0,r1\\n',\n",
              " '  ld  r1,a\\n',\n",
              " '  mul r0,r1\\n',\n",
              " '  sto r0,c\\n',\n",
              " 'a 0\\n',\n",
              " 'b 0\\n',\n",
              " 'c 0']"
            ]
          },
          "metadata": {
            "tags": []
          },
          "execution_count": 608
        }
      ]
    },
    {
      "cell_type": "code",
      "metadata": {
        "colab": {
          "base_uri": "https://localhost:8080/"
        },
        "id": "9uPvno0S1smj",
        "outputId": "a1e3c50a-02f6-4250-ed89-c14766033564"
      },
      "source": [
        "Assembler(program)"
      ],
      "execution_count": null,
      "outputs": [
        {
          "output_type": "stream",
          "text": [
            "100 110107\n",
            "101 131003\n",
            "102 150001\n",
            "103 111106\n",
            "104 170001\n",
            "105 120108\n",
            "106 000000\n",
            "107 000000\n",
            "108 000000\n",
            "109 100000\n"
          ],
          "name": "stdout"
        }
      ]
    },
    {
      "cell_type": "code",
      "metadata": {
        "colab": {
          "base_uri": "https://localhost:8080/"
        },
        "id": "8Lgvc6P21smk",
        "outputId": "b5598d89-4f44-4338-f588-834161c78e2a"
      },
      "source": [
        "%%writefile code.ml\n",
        "100 110107\n",
        "101 131003\n",
        "102 150001\n",
        "103 111106\n",
        "104 170001\n",
        "105 120108\n",
        "106 000015   \n",
        "107 000022   \n",
        "108 000000   \n",
        "109 100000"
      ],
      "execution_count": null,
      "outputs": [
        {
          "output_type": "stream",
          "text": [
            "Overwriting code.ml\n"
          ],
          "name": "stdout"
        }
      ]
    },
    {
      "cell_type": "code",
      "metadata": {
        "id": "XiQJBRoP1smm"
      },
      "source": [
        "M = np.zeros(1000, dtype=int)    # Memory\n",
        "R = np.zeros(10,   dtype=int)    # Registers\n",
        "C = np.zeros(100,  dtype=int)    # Program Counter\n",
        "I = np.zeros(1,    dtype=int)    # Instruction Register"
      ],
      "execution_count": null,
      "outputs": []
    },
    {
      "cell_type": "code",
      "metadata": {
        "id": "deRw4Wjc1smm"
      },
      "source": [
        "load_program('code.ml')"
      ],
      "execution_count": null,
      "outputs": []
    },
    {
      "cell_type": "code",
      "metadata": {
        "id": "uIdnQxZr1smn"
      },
      "source": [
        "compute(M)"
      ],
      "execution_count": null,
      "outputs": []
    },
    {
      "cell_type": "code",
      "metadata": {
        "colab": {
          "base_uri": "https://localhost:8080/"
        },
        "id": "LF3zBpwV1smo",
        "outputId": "5c73df1a-9ab0-4841-c5cd-9a9ca6ab5d38"
      },
      "source": [
        "M[108]"
      ],
      "execution_count": null,
      "outputs": [
        {
          "output_type": "execute_result",
          "data": {
            "text/plain": [
              "375"
            ]
          },
          "metadata": {
            "tags": []
          },
          "execution_count": 593
        }
      ]
    },
    {
      "cell_type": "code",
      "metadata": {
        "colab": {
          "base_uri": "https://localhost:8080/"
        },
        "id": "gHGeKRsUsKKP",
        "outputId": "837c30c4-6645-4b20-df18-2525f8a6667c"
      },
      "source": [
        "a = 15\n",
        "b = 22\n",
        "c = (b+3)*a\n",
        "c"
      ],
      "execution_count": null,
      "outputs": [
        {
          "output_type": "execute_result",
          "data": {
            "text/plain": [
              "375"
            ]
          },
          "metadata": {
            "tags": []
          },
          "execution_count": 594
        }
      ]
    },
    {
      "cell_type": "code",
      "metadata": {
        "id": "zYhcbRSK7eKm"
      },
      "source": [
        ""
      ],
      "execution_count": null,
      "outputs": []
    },
    {
      "cell_type": "code",
      "metadata": {
        "id": "Pgb6YuBc7eNM"
      },
      "source": [
        ""
      ],
      "execution_count": null,
      "outputs": []
    },
    {
      "cell_type": "code",
      "metadata": {
        "colab": {
          "base_uri": "https://localhost:8080/"
        },
        "id": "2US6NJ_N31Nw",
        "outputId": "571987c9-8f6a-4169-814d-edc11f6818d2"
      },
      "source": [
        "8*7*6*5*4*3*2*1"
      ],
      "execution_count": null,
      "outputs": [
        {
          "output_type": "execute_result",
          "data": {
            "text/plain": [
              "40320"
            ]
          },
          "metadata": {
            "tags": []
          },
          "execution_count": 595
        }
      ]
    },
    {
      "cell_type": "code",
      "metadata": {
        "colab": {
          "base_uri": "https://localhost:8080/"
        },
        "id": "ZaSuaVqnpMVO",
        "outputId": "f27ccb9d-0fb9-47bf-eb2d-186b1334b317"
      },
      "source": [
        "%%writefile fact.mh\n",
        "term = 8\n",
        "ans  = 1\n",
        "while term { ans=ans*term  term=term-1 }\n",
        "ans"
      ],
      "execution_count": null,
      "outputs": [
        {
          "output_type": "stream",
          "text": [
            "Overwriting fact.mh\n"
          ],
          "name": "stdout"
        }
      ]
    },
    {
      "cell_type": "code",
      "metadata": {
        "id": "KfWMMuiZqPcD"
      },
      "source": [
        "file = 'fact.mh'\n",
        "with open(file) as f:\n",
        "    program = f.readlines()\n",
        "program = ' '.join(program)"
      ],
      "execution_count": null,
      "outputs": []
    },
    {
      "cell_type": "code",
      "metadata": {
        "id": "wj9Y3v_dN_aR"
      },
      "source": [
        "nextLabel = 1\n",
        "vars = {}"
      ],
      "execution_count": null,
      "outputs": []
    },
    {
      "cell_type": "code",
      "metadata": {
        "colab": {
          "base_uri": "https://localhost:8080/"
        },
        "id": "anEOZSYap_CD",
        "outputId": "f7ea4011-468e-4d22-8c5a-9774e2b202b1"
      },
      "source": [
        "Compiler(program)"
      ],
      "execution_count": null,
      "outputs": [
        {
          "output_type": "stream",
          "text": [
            "  ld# r0,8\n",
            "  sto r0,term\n",
            "  ld# r0,1\n",
            "  sto r0,ans\n",
            "z1\n",
            "  ld  r0,term\n",
            "  jz  r0,z2\n",
            "  ld  r1,ans\n",
            "  ld  r2,term\n",
            "  mul r1,r2\n",
            "  sto r1,ans\n",
            "  ld  r1,term\n",
            "  ld# r2,1\n",
            "  sub r1,r2\n",
            "  sto r1,term\n",
            "  jmp  z1\n",
            "z2\n",
            "  ld  r0,ans\n",
            "term 0\n",
            "ans 0\n"
          ],
          "name": "stdout"
        }
      ]
    },
    {
      "cell_type": "code",
      "metadata": {
        "id": "QkjAUXtyRCew"
      },
      "source": [
        "# 100 030005     ld# r0,5\n",
        "# 101 020117     sto r0,term\n",
        "# 102 030001     ld# r0,1\n",
        "# 103 020118     sto r0,ans\n",
        "#              z1\n",
        "# 104 010117     ld  r0,term\n",
        "# 105 110115     jz  r0,z2\n",
        "# 106 011118     ld  r1,ans\n",
        "# 107 012117     ld  r2,term\n",
        "# 108 071002     mul r1,r2\n",
        "# 109 021118     sto r1,ans\n",
        "# 110 011117     ld  r1,term\n",
        "# 111 032001     ld# r2,1\n",
        "# 112 061002     sub r1,r2\n",
        "# 113 021117     sto r1,term\n",
        "# 114 100104     jmp  z1\n",
        "#              z2\n",
        "# 115 010118     ld  r0,ans\n",
        "# 116 000000     hlt\n",
        "# 117 000000   term 0\n",
        "# 118 000000   ans 0"
      ],
      "execution_count": null,
      "outputs": []
    },
    {
      "cell_type": "code",
      "metadata": {
        "colab": {
          "base_uri": "https://localhost:8080/"
        },
        "id": "N8H-hzqGQFJy",
        "outputId": "fc24486a-e33f-4a9c-eda5-9323bf9d067d"
      },
      "source": [
        "vars"
      ],
      "execution_count": null,
      "outputs": [
        {
          "output_type": "execute_result",
          "data": {
            "text/plain": [
              "{'ans': 1, 'term': 1}"
            ]
          },
          "metadata": {
            "tags": []
          },
          "execution_count": 601
        }
      ]
    },
    {
      "cell_type": "code",
      "metadata": {
        "colab": {
          "base_uri": "https://localhost:8080/"
        },
        "id": "WPN9CJCApMdy",
        "outputId": "c1a63342-a9f9-413e-be34-1eef34d0ba3d"
      },
      "source": [
        "%%writefile code.ma\n",
        "     ld# r0,8\n",
        "     sto r0,term\n",
        "     ld# r0,1\n",
        "     sto r0,ans\n",
        " z1  ld r0,term\n",
        "     jz  r0,z2\n",
        "     ld  r1,ans\n",
        "     ld  r2,term\n",
        "     mul r1,r2\n",
        "     sto r1,ans\n",
        "     ld  r1,term\n",
        "     ld# r2,1\n",
        "     sub r1,r2\n",
        "     sto r1,term\n",
        "     jmp  z1\n",
        " z2  ld  r0,ans\n",
        "z1 0\n",
        "z2 0\n",
        "term 0\n",
        "ans 0"
      ],
      "execution_count": null,
      "outputs": [
        {
          "output_type": "stream",
          "text": [
            "Overwriting code.ma\n"
          ],
          "name": "stdout"
        }
      ]
    },
    {
      "cell_type": "code",
      "metadata": {
        "id": "Mqtj8XN34Czo"
      },
      "source": [
        "file = 'code.ma'\n",
        "with open(file) as f:\n",
        "    program = f.readlines()"
      ],
      "execution_count": null,
      "outputs": []
    },
    {
      "cell_type": "code",
      "metadata": {
        "colab": {
          "base_uri": "https://localhost:8080/"
        },
        "id": "pqcHwqcIKAIW",
        "outputId": "b9df8d64-9f98-40f9-ad4b-b007de9a83cd"
      },
      "source": [
        "program"
      ],
      "execution_count": null,
      "outputs": [
        {
          "output_type": "execute_result",
          "data": {
            "text/plain": [
              "['     ld# r0,8\\n',\n",
              " '     sto r0,term\\n',\n",
              " '     ld# r0,1\\n',\n",
              " '     sto r0,ans\\n',\n",
              " ' z1  ld r0,term\\n',\n",
              " '     jz  r0,z2\\n',\n",
              " '     ld  r1,ans\\n',\n",
              " '     ld  r2,term\\n',\n",
              " '     mul r1,r2\\n',\n",
              " '     sto r1,ans\\n',\n",
              " '     ld  r1,term\\n',\n",
              " '     ld# r2,1\\n',\n",
              " '     sub r1,r2\\n',\n",
              " '     sto r1,term\\n',\n",
              " '     jmp  z1\\n',\n",
              " ' z2  ld  r0,ans\\n',\n",
              " 'z1 0\\n',\n",
              " 'z2 0\\n',\n",
              " 'term 0\\n',\n",
              " 'ans 0']"
            ]
          },
          "metadata": {
            "tags": []
          },
          "execution_count": 622
        }
      ]
    },
    {
      "cell_type": "code",
      "metadata": {
        "id": "h8r-sYwkJ--2"
      },
      "source": [
        "Assembler(program)"
      ],
      "execution_count": null,
      "outputs": []
    },
    {
      "cell_type": "code",
      "metadata": {
        "id": "jYKD-SBeJqST"
      },
      "source": [
        " "
      ],
      "execution_count": null,
      "outputs": []
    },
    {
      "cell_type": "code",
      "metadata": {
        "colab": {
          "base_uri": "https://localhost:8080/"
        },
        "id": "fM2Q6C874Czt",
        "outputId": "de3dfb84-df53-44c2-f2d5-7c64e447d20f"
      },
      "source": [
        "%%writefile code.ml\n",
        "100 130008\n",
        "101 120116\n",
        "102 130001\n",
        "103 120117\n",
        "104 110116\n",
        "105 210115\n",
        "106 111117\n",
        "107 112116\n",
        "108 171002\n",
        "109 121117\n",
        "110 111116\n",
        "111 132001\n",
        "112 161002\n",
        "113 121116\n",
        "114 200104\n",
        "115 110117\n",
        "116 100000\n",
        "117 100000\n",
        "118 100000"
      ],
      "execution_count": null,
      "outputs": [
        {
          "output_type": "stream",
          "text": [
            "Overwriting code.ml\n"
          ],
          "name": "stdout"
        }
      ]
    },
    {
      "cell_type": "code",
      "metadata": {
        "id": "HALbvkWj4Czu"
      },
      "source": [
        "M = np.zeros(1000, dtype=int)    # Memory\n",
        "R = np.zeros(10,   dtype=int)    # Registers\n",
        "C = np.zeros(100,  dtype=int)    # Program Counter\n",
        "I = np.zeros(1,    dtype=int)    # Instruction Register"
      ],
      "execution_count": null,
      "outputs": []
    },
    {
      "cell_type": "code",
      "metadata": {
        "id": "xDc5yEbN4Czv"
      },
      "source": [
        "load_program('code.ml')"
      ],
      "execution_count": null,
      "outputs": []
    },
    {
      "cell_type": "code",
      "metadata": {
        "id": "bifuyUwJ4Czw"
      },
      "source": [
        "compute(M)"
      ],
      "execution_count": null,
      "outputs": []
    },
    {
      "cell_type": "code",
      "metadata": {
        "colab": {
          "base_uri": "https://localhost:8080/"
        },
        "id": "Rj1TavGDp8pJ",
        "outputId": "1dfda41b-7149-4168-94fa-d4ccae8fdd8e"
      },
      "source": [
        "R"
      ],
      "execution_count": null,
      "outputs": [
        {
          "output_type": "execute_result",
          "data": {
            "text/plain": [
              "array([40320,     0,     1,     0,     0,     0,     0,     0,     0,\n",
              "           0])"
            ]
          },
          "metadata": {
            "tags": []
          },
          "execution_count": 266
        }
      ]
    },
    {
      "cell_type": "code",
      "metadata": {
        "id": "W2OfnRuTp8r8"
      },
      "source": [
        ""
      ],
      "execution_count": null,
      "outputs": []
    },
    {
      "cell_type": "code",
      "metadata": {
        "id": "plH4cHs06VtF"
      },
      "source": [
        ""
      ],
      "execution_count": null,
      "outputs": []
    },
    {
      "cell_type": "code",
      "metadata": {
        "id": "xakz3nFA6Vvz"
      },
      "source": [
        ""
      ],
      "execution_count": null,
      "outputs": []
    },
    {
      "cell_type": "code",
      "metadata": {
        "id": "Pde3KFNQ6Vyl"
      },
      "source": [
        ""
      ],
      "execution_count": null,
      "outputs": []
    },
    {
      "cell_type": "code",
      "metadata": {
        "id": "V4BPlvUO6V07"
      },
      "source": [
        ""
      ],
      "execution_count": null,
      "outputs": []
    },
    {
      "cell_type": "code",
      "metadata": {
        "id": "lesEt8GQ6V5E"
      },
      "source": [
        ""
      ],
      "execution_count": null,
      "outputs": []
    },
    {
      "cell_type": "code",
      "metadata": {
        "id": "Cex7OauX6V7V"
      },
      "source": [
        ""
      ],
      "execution_count": null,
      "outputs": []
    },
    {
      "cell_type": "code",
      "metadata": {
        "id": "u_Lzm7NS6V9g"
      },
      "source": [
        ""
      ],
      "execution_count": null,
      "outputs": []
    },
    {
      "cell_type": "code",
      "metadata": {
        "id": "gDISslw76V_e"
      },
      "source": [
        ""
      ],
      "execution_count": null,
      "outputs": []
    },
    {
      "cell_type": "code",
      "metadata": {
        "id": "TB6Ggj3E6WBn"
      },
      "source": [
        ""
      ],
      "execution_count": null,
      "outputs": []
    },
    {
      "cell_type": "code",
      "metadata": {
        "id": "_sLBbIZY6WD7"
      },
      "source": [
        ""
      ],
      "execution_count": null,
      "outputs": []
    },
    {
      "cell_type": "code",
      "metadata": {
        "id": "r8-krPzn6WGk"
      },
      "source": [
        ""
      ],
      "execution_count": null,
      "outputs": []
    },
    {
      "cell_type": "code",
      "metadata": {
        "id": "9-BmiBit6WIV"
      },
      "source": [
        ""
      ],
      "execution_count": null,
      "outputs": []
    },
    {
      "cell_type": "code",
      "metadata": {
        "id": "bVtVPJ7vjs6I"
      },
      "source": [
        ""
      ],
      "execution_count": null,
      "outputs": []
    },
    {
      "cell_type": "code",
      "metadata": {
        "id": "yLOXPggjjs8b"
      },
      "source": [
        ""
      ],
      "execution_count": null,
      "outputs": []
    },
    {
      "cell_type": "code",
      "metadata": {
        "id": "cU1FB0KZjs-G"
      },
      "source": [
        ""
      ],
      "execution_count": null,
      "outputs": []
    },
    {
      "cell_type": "code",
      "metadata": {
        "id": "kEXH-kcFjtAI"
      },
      "source": [
        ""
      ],
      "execution_count": null,
      "outputs": []
    },
    {
      "cell_type": "code",
      "metadata": {
        "id": "FAxsfKqVivU4"
      },
      "source": [
        ""
      ],
      "execution_count": null,
      "outputs": []
    },
    {
      "cell_type": "code",
      "metadata": {
        "id": "Aqtn2_jxjtCJ"
      },
      "source": [
        ""
      ],
      "execution_count": null,
      "outputs": []
    },
    {
      "cell_type": "code",
      "metadata": {
        "id": "BikW_v7MjtEP"
      },
      "source": [
        ""
      ],
      "execution_count": null,
      "outputs": []
    },
    {
      "cell_type": "code",
      "metadata": {
        "id": "TNrYMNicjtGs"
      },
      "source": [
        ""
      ],
      "execution_count": null,
      "outputs": []
    },
    {
      "cell_type": "code",
      "metadata": {
        "id": "u1eDnjcxjtIS"
      },
      "source": [
        ""
      ],
      "execution_count": null,
      "outputs": []
    }
  ]
}