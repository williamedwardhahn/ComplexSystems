{
  "nbformat": 4,
  "nbformat_minor": 0,
  "metadata": {
    "colab": {
      "name": "Truncated Normal.ipynb",
      "provenance": [],
      "collapsed_sections": [],
      "authorship_tag": "ABX9TyM0AaYDwnFCCKRfjKczIggy",
      "include_colab_link": true
    },
    "kernelspec": {
      "name": "python3",
      "display_name": "Python 3"
    },
    "language_info": {
      "name": "python"
    }
  },
  "cells": [
    {
      "cell_type": "markdown",
      "metadata": {
        "id": "view-in-github",
        "colab_type": "text"
      },
      "source": [
        "<a href=\"https://colab.research.google.com/github/williamedwardhahn/ComplexSystems/blob/main/Truncated_Normal.ipynb\" target=\"_parent\"><img src=\"https://colab.research.google.com/assets/colab-badge.svg\" alt=\"Open In Colab\"/></a>"
      ]
    },
    {
      "cell_type": "code",
      "metadata": {
        "id": "bMyjvwwX7HqB"
      },
      "source": [
        "import torch\n",
        "import numpy as np\n",
        "import matplotlib.pyplot as plt "
      ],
      "execution_count": 16,
      "outputs": []
    },
    {
      "cell_type": "markdown",
      "metadata": {
        "id": "tNMmQM3f7UFs"
      },
      "source": [
        "The box-muller trick is to sample, uniformly between 0 and 1 two random variables, U1 and U2. Then, you can verify that\n",
        "\n",
        "Z = sqrt(-2*log(U1)) * cos(2*pi*U2) = R*cos(Theta)\n",
        "\n",
        "follows a normal distribution. Now, we want to create Z only living between -2 and 2. For this truncation, we still accept all the angles Theta, but we just want the ray R bigger than -2 and smaller than 2. In other words:\n",
        "\n",
        "-2 <= sqrt(-2*log(U1)) <= 2\n",
        "\n",
        "iif U1 is uniformly sampled between exp(-2) and 1 :slight_smile:\n",
        "Then you have the python function:"
      ]
    },
    {
      "cell_type": "code",
      "metadata": {
        "id": "T3skl3ai6oDr"
      },
      "source": [
        "# sample u1:\n",
        "size = (100000,)\n",
        "u1 = torch.rand(size)*(1-np.exp(-2)) + np.exp(-2)\n",
        "# sample u2:\n",
        "u2 = torch.rand(size)\n",
        "# sample the truncated gaussian ~TN(0,1,[-2,2]):\n",
        "z = torch.sqrt(-2*np.log(u1)) * torch.cos(2*np.pi*u2)"
      ],
      "execution_count": 24,
      "outputs": []
    },
    {
      "cell_type": "code",
      "metadata": {
        "colab": {
          "base_uri": "https://localhost:8080/"
        },
        "id": "drP7D3aW7Jn9",
        "outputId": "92821aef-66eb-44b0-cb76-ed69df7003cf"
      },
      "source": [
        "z"
      ],
      "execution_count": 25,
      "outputs": [
        {
          "output_type": "execute_result",
          "data": {
            "text/plain": [
              "tensor([-0.3111, -0.4990,  0.4996,  ..., -1.8370,  1.2226,  0.2260])"
            ]
          },
          "metadata": {
            "tags": []
          },
          "execution_count": 25
        }
      ]
    },
    {
      "cell_type": "code",
      "metadata": {
        "colab": {
          "base_uri": "https://localhost:8080/",
          "height": 369
        },
        "id": "1w49t4gL7Peu",
        "outputId": "33f99605-0391-4789-fce8-a9260daf8538"
      },
      "source": [
        "plt.hist(z)"
      ],
      "execution_count": 26,
      "outputs": [
        {
          "output_type": "execute_result",
          "data": {
            "text/plain": [
              "(array([ 2189.,  6008., 10212., 14442., 17300., 17051., 14455., 10248.,\n",
              "         5911.,  2184.]),\n",
              " array([-1.9998083e+00, -1.5999368e+00, -1.2000655e+00, -8.0019403e-01,\n",
              "        -4.0032262e-01, -4.5120716e-04,  3.9942020e-01,  7.9929161e-01,\n",
              "         1.1991631e+00,  1.5990344e+00,  1.9989059e+00], dtype=float32),\n",
              " <a list of 10 Patch objects>)"
            ]
          },
          "metadata": {
            "tags": []
          },
          "execution_count": 26
        },
        {
          "output_type": "display_data",
          "data": {
            "image/png": "[encoded data removed]",
            "text/plain": [
              "<Figure size 432x288 with 1 Axes>"
            ]
          },
          "metadata": {
            "tags": [],
            "needs_background": "light"
          }
        }
      ]
    },
    {
      "cell_type": "code",
      "metadata": {
        "colab": {
          "base_uri": "https://localhost:8080/",
          "height": 369
        },
        "id": "vzC3sEnm7hJ4",
        "outputId": "84f8c9a6-5a55-4bcc-ac2b-8b3768b138ca"
      },
      "source": [
        "plt.hist(torch.randn(size))"
      ],
      "execution_count": 27,
      "outputs": [
        {
          "output_type": "execute_result",
          "data": {
            "text/plain": [
              "(array([3.2000e+01, 5.4200e+02, 4.1100e+03, 1.5694e+04, 3.0419e+04,\n",
              "        3.0123e+04, 1.4981e+04, 3.6130e+03, 4.5700e+02, 2.9000e+01]),\n",
              " array([-4.2416606 , -3.388572  , -2.5354834 , -1.6823949 , -0.8293063 ,\n",
              "         0.02378225,  0.8768708 ,  1.7299594 ,  2.5830479 ,  3.4361365 ,\n",
              "         4.289225  ], dtype=float32),\n",
              " <a list of 10 Patch objects>)"
            ]
          },
          "metadata": {
            "tags": []
          },
          "execution_count": 27
        },
        {
          "output_type": "display_data",
          "data": {
            "image/png": "[encoded data removed]",
            "text/plain": [
              "<Figure size 432x288 with 1 Axes>"
            ]
          },
          "metadata": {
            "tags": [],
            "needs_background": "light"
          }
        }
      ]
    },
    {
      "cell_type": "code",
      "metadata": {
        "id": "Up4QZneK7npv"
      },
      "source": [
        ""
      ],
      "execution_count": null,
      "outputs": []
    }
  ]
}